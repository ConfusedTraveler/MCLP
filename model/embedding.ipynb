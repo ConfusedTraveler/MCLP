{
 "cells": [
  {
   "cell_type": "code",
   "execution_count": 4,
   "id": "dd4e4e80",
   "metadata": {},
   "outputs": [],
   "source": [
    "import torch"
   ]
  },
  {
   "cell_type": "code",
   "execution_count": 1,
   "id": "69ea2ecd",
   "metadata": {},
   "outputs": [],
   "source": [
    "import torch.nn as nn"
   ]
  },
  {
   "cell_type": "code",
   "execution_count": 2,
   "id": "5cc378ca",
   "metadata": {},
   "outputs": [],
   "source": [
    "base_dim = 8"
   ]
  },
  {
   "cell_type": "code",
   "execution_count": 3,
   "id": "45cf3d14",
   "metadata": {},
   "outputs": [],
   "source": [
    "timeslot_embedding = nn.Embedding(24, base_dim)"
   ]
  },
  {
   "cell_type": "code",
   "execution_count": 6,
   "id": "c6439616",
   "metadata": {},
   "outputs": [],
   "source": [
    "timeslot_embedded = timeslot_embedding(torch.arange(end=24, dtype=torch.int))"
   ]
  },
  {
   "cell_type": "code",
   "execution_count": 9,
   "id": "43879810",
   "metadata": {},
   "outputs": [],
   "source": [
    "temp = torch.arange(end=24, dtype=torch.int)"
   ]
  },
  {
   "cell_type": "code",
   "execution_count": 10,
   "id": "5e1ddd74",
   "metadata": {},
   "outputs": [
    {
     "data": {
      "text/plain": [
       "torch.Size([24])"
      ]
     },
     "execution_count": 10,
     "metadata": {},
     "output_type": "execute_result"
    }
   ],
   "source": [
    "temp.shape"
   ]
  },
  {
   "cell_type": "code",
   "execution_count": 8,
   "id": "1f89b8a8",
   "metadata": {},
   "outputs": [
    {
     "data": {
      "text/plain": [
       "torch.Size([24, 8])"
      ]
     },
     "execution_count": 8,
     "metadata": {},
     "output_type": "execute_result"
    }
   ],
   "source": [
    "timeslot_embedded.shape"
   ]
  },
  {
   "cell_type": "code",
   "execution_count": 1,
   "id": "d4a43f7b",
   "metadata": {},
   "outputs": [],
   "source": [
    "from tools import get_config"
   ]
  },
  {
   "cell_type": "code",
   "execution_count": 2,
   "id": "b9c09500",
   "metadata": {},
   "outputs": [],
   "source": [
    "save_dir = f\"../saved_models/MP\"\n",
    "config_path = f\"{save_dir}/settings.yml\"\n",
    "config = get_config(config_path, easy=True)"
   ]
  },
  {
   "cell_type": "code",
   "execution_count": 3,
   "id": "3d2a2b11",
   "metadata": {},
   "outputs": [
    {
     "data": {
      "text/plain": [
       "{'Adam_optimizer': {'initial_lr': 0.01, 'weight_decay': 1e-06},\n",
       " 'Dataset': {'num_locations': 20607,\n",
       "  'num_users': 10000,\n",
       "  'sequence_length': 20,\n",
       "  'topic_num': 450},\n",
       " 'Embedding': {'base_dim': 8},\n",
       " 'Encoder': {'encoder_type': 'trans'},\n",
       " 'Model': {'at_type': 'attn',\n",
       "  'batch_size': 256,\n",
       "  'epoch': 50,\n",
       "  'seed': 1234,\n",
       "  'test_epoch': 50}}"
      ]
     },
     "execution_count": 3,
     "metadata": {},
     "output_type": "execute_result"
    }
   ],
   "source": [
    "config"
   ]
  },
  {
   "cell_type": "code",
   "execution_count": 4,
   "id": "483516dd",
   "metadata": {},
   "outputs": [],
   "source": [
    "from embedding import MyEmbedding\n",
    "\n",
    "embedding_layer = MyEmbedding(config)"
   ]
  },
  {
   "cell_type": "code",
   "execution_count": 1,
   "id": "24e73cfe",
   "metadata": {},
   "outputs": [],
   "source": [
    "import torch.nn as nn\n",
    "import torch"
   ]
  },
  {
   "cell_type": "code",
   "execution_count": 2,
   "id": "ac7c8fe6",
   "metadata": {},
   "outputs": [],
   "source": [
    "embedding = nn.Embedding(10, 3)"
   ]
  },
  {
   "cell_type": "code",
   "execution_count": 5,
   "id": "049de535",
   "metadata": {},
   "outputs": [],
   "source": [
    "user_embedded = embedding(torch.arange(10))"
   ]
  },
  {
   "cell_type": "code",
   "execution_count": 6,
   "id": "8e2cb0f0",
   "metadata": {},
   "outputs": [
    {
     "data": {
      "text/plain": [
       "torch.Size([10, 3])"
      ]
     },
     "execution_count": 6,
     "metadata": {},
     "output_type": "execute_result"
    }
   ],
   "source": [
    "user_embedded.shape"
   ]
  },
  {
   "cell_type": "code",
   "execution_count": 2,
   "id": "1a97c9e2",
   "metadata": {},
   "outputs": [],
   "source": [
    "embedding = nn.Embedding(24, 16)  # shape: [24, 16]\n",
    "hour_x = torch.tensor([\n",
    "    [1, 2, 3],\n",
    "    [4, 5, 6]\n",
    "])  # shape: [2, 3]，即 bs=2，seq_len=3\n",
    "\n",
    "# 进行索引：\n",
    "time_embedded = embedding(hour_x)"
   ]
  },
  {
   "cell_type": "code",
   "execution_count": 3,
   "id": "8a4db5f2",
   "metadata": {},
   "outputs": [
    {
     "data": {
      "text/plain": [
       "torch.Size([2, 3, 16])"
      ]
     },
     "execution_count": 3,
     "metadata": {},
     "output_type": "execute_result"
    }
   ],
   "source": [
    "time_embedded.shape"
   ]
  }
 ],
 "metadata": {
  "kernelspec": {
   "display_name": "stgcn",
   "language": "python",
   "name": "python3"
  },
  "language_info": {
   "codemirror_mode": {
    "name": "ipython",
    "version": 3
   },
   "file_extension": ".py",
   "mimetype": "text/x-python",
   "name": "python",
   "nbconvert_exporter": "python",
   "pygments_lexer": "ipython3",
   "version": "3.10.15"
  }
 },
 "nbformat": 4,
 "nbformat_minor": 5
}
