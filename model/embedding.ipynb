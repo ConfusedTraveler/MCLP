{
 "cells": [
  {
   "cell_type": "code",
   "execution_count": 4,
   "id": "dd4e4e80",
   "metadata": {},
   "outputs": [],
   "source": [
    "import torch"
   ]
  },
  {
   "cell_type": "code",
   "execution_count": 1,
   "id": "69ea2ecd",
   "metadata": {},
   "outputs": [],
   "source": [
    "import torch.nn as nn"
   ]
  },
  {
   "cell_type": "code",
   "execution_count": 2,
   "id": "5cc378ca",
   "metadata": {},
   "outputs": [],
   "source": [
    "base_dim = 8"
   ]
  },
  {
   "cell_type": "code",
   "execution_count": 3,
   "id": "45cf3d14",
   "metadata": {},
   "outputs": [],
   "source": [
    "timeslot_embedding = nn.Embedding(24, base_dim)"
   ]
  },
  {
   "cell_type": "code",
   "execution_count": 6,
   "id": "c6439616",
   "metadata": {},
   "outputs": [],
   "source": [
    "timeslot_embedded = timeslot_embedding(torch.arange(end=24, dtype=torch.int))"
   ]
  },
  {
   "cell_type": "code",
   "execution_count": 9,
   "id": "43879810",
   "metadata": {},
   "outputs": [],
   "source": [
    "temp = torch.arange(end=24, dtype=torch.int)"
   ]
  },
  {
   "cell_type": "code",
   "execution_count": 10,
   "id": "5e1ddd74",
   "metadata": {},
   "outputs": [
    {
     "data": {
      "text/plain": [
       "torch.Size([24])"
      ]
     },
     "execution_count": 10,
     "metadata": {},
     "output_type": "execute_result"
    }
   ],
   "source": [
    "temp.shape"
   ]
  },
  {
   "cell_type": "code",
   "execution_count": 8,
   "id": "1f89b8a8",
   "metadata": {},
   "outputs": [
    {
     "data": {
      "text/plain": [
       "torch.Size([24, 8])"
      ]
     },
     "execution_count": 8,
     "metadata": {},
     "output_type": "execute_result"
    }
   ],
   "source": [
    "timeslot_embedded.shape"
   ]
  }
 ],
 "metadata": {
  "kernelspec": {
   "display_name": "stgcn",
   "language": "python",
   "name": "python3"
  },
  "language_info": {
   "codemirror_mode": {
    "name": "ipython",
    "version": 3
   },
   "file_extension": ".py",
   "mimetype": "text/x-python",
   "name": "python",
   "nbconvert_exporter": "python",
   "pygments_lexer": "ipython3",
   "version": "3.10.15"
  }
 },
 "nbformat": 4,
 "nbformat_minor": 5
}
