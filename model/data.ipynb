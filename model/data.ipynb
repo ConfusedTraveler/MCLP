{
 "cells": [
  {
   "cell_type": "code",
   "execution_count": 1,
   "id": "abf717b4",
   "metadata": {},
   "outputs": [
    {
     "name": "stdout",
     "output_type": "stream",
     "text": [
      "e:\\YangYueHan\\project\\MCLP\\model\n"
     ]
    }
   ],
   "source": [
    "import os\n",
    "print(os.getcwd())"
   ]
  },
  {
   "cell_type": "code",
   "execution_count": 2,
   "id": "ad1a4ea1",
   "metadata": {},
   "outputs": [],
   "source": [
    "dataset_path = '../data/MP'"
   ]
  },
  {
   "cell_type": "code",
   "execution_count": 3,
   "id": "8e94731f",
   "metadata": {},
   "outputs": [],
   "source": [
    "from tools import get_mapper"
   ]
  },
  {
   "cell_type": "code",
   "execution_count": 5,
   "id": "6e5f83f0",
   "metadata": {},
   "outputs": [
    {
     "name": "stdout",
     "output_type": "stream",
     "text": [
      "\n",
      "*** Please check the corresponding dataset configuration yml file. ***\n",
      "unique location num: 20607\n",
      "unique user num: 10000\n"
     ]
    }
   ],
   "source": [
    "get_mapper(dataset_path=dataset_path)"
   ]
  },
  {
   "cell_type": "code",
   "execution_count": 6,
   "id": "5788f00a",
   "metadata": {},
   "outputs": [],
   "source": [
    "import numpy as np"
   ]
  },
  {
   "cell_type": "markdown",
   "id": "4ae49ff9",
   "metadata": {},
   "source": [
    "\n",
    "- np.load()\n",
    "- data_structure: item()"
   ]
  },
  {
   "cell_type": "code",
   "execution_count": 7,
   "id": "86ab942b",
   "metadata": {},
   "outputs": [],
   "source": [
    "location_mapper = np.load(os.path.join(dataset_path, 'location_mapper.npy'), allow_pickle=True).item()"
   ]
  },
  {
   "cell_type": "markdown",
   "id": "212ca430",
   "metadata": {},
   "source": [
    "- dict: items()"
   ]
  },
  {
   "cell_type": "code",
   "execution_count": 8,
   "id": "6ff30a5f",
   "metadata": {},
   "outputs": [
    {
     "name": "stdout",
     "output_type": "stream",
     "text": [
      "0: 9605 -> 0\n",
      "1: 2085 -> 1\n",
      "2: 6539 -> 2\n",
      "3: 12587 -> 3\n",
      "4: 12500 -> 4\n"
     ]
    }
   ],
   "source": [
    "for i, (loc, idx) in enumerate(list(location_mapper.items())[:5]):\n",
    "    print(f'{i}: {loc} -> {idx}')"
   ]
  },
  {
   "cell_type": "code",
   "execution_count": 1,
   "id": "aa609690",
   "metadata": {},
   "outputs": [],
   "source": [
    "from dataloader import datetime_to_features"
   ]
  },
  {
   "cell_type": "code",
   "execution_count": 2,
   "id": "4893d941",
   "metadata": {},
   "outputs": [],
   "source": [
    "weekday, hour = datetime_to_features(1672567200000)"
   ]
  },
  {
   "cell_type": "code",
   "execution_count": 3,
   "id": "33c29671",
   "metadata": {},
   "outputs": [
    {
     "name": "stdout",
     "output_type": "stream",
     "text": [
      "6\n",
      "18\n"
     ]
    }
   ],
   "source": [
    "print(weekday)\n",
    "print(hour)"
   ]
  },
  {
   "cell_type": "code",
   "execution_count": 1,
   "id": "794c154f",
   "metadata": {},
   "outputs": [
    {
     "data": {
      "text/plain": [
       "['for', 'a', 'and', 'the']"
      ]
     },
     "execution_count": 1,
     "metadata": {},
     "output_type": "execute_result"
    }
   ],
   "source": [
    "'for a and the'.split()"
   ]
  },
  {
   "cell_type": "code",
   "execution_count": 4,
   "id": "13018b23",
   "metadata": {},
   "outputs": [],
   "source": [
    "import torch\n",
    "import gensim\n",
    "from gensim import models"
   ]
  },
  {
   "cell_type": "code",
   "execution_count": 5,
   "id": "875e95c7",
   "metadata": {},
   "outputs": [],
   "source": [
    "user_loc_matrix = torch.tensor([[2,1,3],[1,3,4],[4,5,6]])\n"
   ]
  },
  {
   "cell_type": "code",
   "execution_count": 6,
   "id": "ec058473",
   "metadata": {},
   "outputs": [
    {
     "name": "stdout",
     "output_type": "stream",
     "text": [
      "3 3\n"
     ]
    }
   ],
   "source": [
    "num_users, num_locations = user_loc_matrix.shape\n",
    "print(num_users, num_locations)"
   ]
  },
  {
   "cell_type": "code",
   "execution_count": 8,
   "id": "96449da4",
   "metadata": {},
   "outputs": [
    {
     "data": {
      "text/plain": [
       "{'0': 0, '1': 1, '2': 2}"
      ]
     },
     "execution_count": 8,
     "metadata": {},
     "output_type": "execute_result"
    }
   ],
   "source": [
    "dictionary = gensim.corpora.Dictionary([[str(i)] for i in range(num_locations)])\n",
    "dictionary.token2id"
   ]
  },
  {
   "cell_type": "code",
   "execution_count": 9,
   "id": "b81f8a12",
   "metadata": {},
   "outputs": [
    {
     "data": {
      "text/plain": [
       "[[(0, 2), (1, 1), (2, 3)], [(0, 1), (1, 3), (2, 4)], [(0, 4), (1, 5), (2, 6)]]"
      ]
     },
     "execution_count": 9,
     "metadata": {},
     "output_type": "execute_result"
    }
   ],
   "source": [
    "corpus = []\n",
    "for user in user_loc_matrix:\n",
    "    user_doc = [str(loc) for loc, count in enumerate(user) for _ in range(int(count))]\n",
    "    corpus.append(dictionary.doc2bow(user_doc))\n",
    "corpus"
   ]
  },
  {
   "cell_type": "code",
   "execution_count": 10,
   "id": "47a612d8",
   "metadata": {},
   "outputs": [],
   "source": [
    "lda = models.LdaModel(corpus, num_topics=3, random_state=42)"
   ]
  },
  {
   "cell_type": "code",
   "execution_count": 12,
   "id": "ad8e9ce3",
   "metadata": {},
   "outputs": [],
   "source": [
    "import numpy as np"
   ]
  },
  {
   "cell_type": "code",
   "execution_count": 13,
   "id": "6994776f",
   "metadata": {},
   "outputs": [
    {
     "data": {
      "text/plain": [
       "array([[0.05799221, 0.88133264, 0.06067515],\n",
       "       [0.04220628, 0.9138909 , 0.04390279],\n",
       "       [0.0242673 , 0.95064938, 0.02508333]])"
      ]
     },
     "execution_count": 13,
     "metadata": {},
     "output_type": "execute_result"
    }
   ],
   "source": [
    "user_topics = np.zeros((num_users, 3))\n",
    "for i, user in enumerate(user_loc_matrix):\n",
    "    user_doc = [str(loc) for loc, count in enumerate(user) for _ in range(int(count))]\n",
    "    for item in lda[dictionary.doc2bow(user_doc)]:\n",
    "        j = item[0]\n",
    "        prob = item[1]\n",
    "        # user_topic: user i在location j的概率\n",
    "        user_topics[i, j] = prob\n",
    "user_topics"
   ]
  },
  {
   "cell_type": "code",
   "execution_count": 14,
   "id": "058bf13c",
   "metadata": {},
   "outputs": [
    {
     "data": {
      "text/plain": [
       "['0', '0', '1', '2', '2', '2']"
      ]
     },
     "execution_count": 14,
     "metadata": {},
     "output_type": "execute_result"
    }
   ],
   "source": [
    "user_doc = [str(loc) for loc, count in enumerate(user_loc_matrix[0]) for _ in range(int(count))]\n",
    "user_doc"
   ]
  },
  {
   "cell_type": "code",
   "execution_count": 15,
   "id": "da4a7e42",
   "metadata": {},
   "outputs": [
    {
     "data": {
      "text/plain": [
       "[(0, 2), (1, 1), (2, 3)]"
      ]
     },
     "execution_count": 15,
     "metadata": {},
     "output_type": "execute_result"
    }
   ],
   "source": [
    "user_doc_embedding = dictionary.doc2bow(user_doc)\n",
    "user_doc_embedding"
   ]
  },
  {
   "cell_type": "code",
   "execution_count": 17,
   "id": "88e09286",
   "metadata": {},
   "outputs": [
    {
     "data": {
      "text/plain": [
       "[(0, 0.05799002), (1, 0.88139576), (2, 0.0606142)]"
      ]
     },
     "execution_count": 17,
     "metadata": {},
     "output_type": "execute_result"
    }
   ],
   "source": [
    "lda[user_doc_embedding]"
   ]
  }
 ],
 "metadata": {
  "kernelspec": {
   "display_name": "MCLP",
   "language": "python",
   "name": "python3"
  },
  "language_info": {
   "codemirror_mode": {
    "name": "ipython",
    "version": 3
   },
   "file_extension": ".py",
   "mimetype": "text/x-python",
   "name": "python",
   "nbconvert_exporter": "python",
   "pygments_lexer": "ipython3",
   "version": "3.10.17"
  }
 },
 "nbformat": 4,
 "nbformat_minor": 5
}
