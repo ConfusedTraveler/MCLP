{
 "cells": [
  {
   "cell_type": "code",
   "execution_count": 1,
   "id": "abf717b4",
   "metadata": {},
   "outputs": [
    {
     "name": "stdout",
     "output_type": "stream",
     "text": [
      "e:\\YangYueHan\\project\\MCLP\\model\n"
     ]
    }
   ],
   "source": [
    "import os\n",
    "print(os.getcwd())"
   ]
  },
  {
   "cell_type": "code",
   "execution_count": 2,
   "id": "ad1a4ea1",
   "metadata": {},
   "outputs": [],
   "source": [
    "dataset_path = '../data/MP'"
   ]
  },
  {
   "cell_type": "code",
   "execution_count": 3,
   "id": "8e94731f",
   "metadata": {},
   "outputs": [],
   "source": [
    "from tools import get_mapper"
   ]
  },
  {
   "cell_type": "code",
   "execution_count": 5,
   "id": "6e5f83f0",
   "metadata": {},
   "outputs": [
    {
     "name": "stdout",
     "output_type": "stream",
     "text": [
      "\n",
      "*** Please check the corresponding dataset configuration yml file. ***\n",
      "unique location num: 20607\n",
      "unique user num: 10000\n"
     ]
    }
   ],
   "source": [
    "get_mapper(dataset_path=dataset_path)"
   ]
  }
 ],
 "metadata": {
  "kernelspec": {
   "display_name": "stgcn",
   "language": "python",
   "name": "python3"
  },
  "language_info": {
   "codemirror_mode": {
    "name": "ipython",
    "version": 3
   },
   "file_extension": ".py",
   "mimetype": "text/x-python",
   "name": "python",
   "nbconvert_exporter": "python",
   "pygments_lexer": "ipython3",
   "version": "3.10.15"
  }
 },
 "nbformat": 4,
 "nbformat_minor": 5
}
