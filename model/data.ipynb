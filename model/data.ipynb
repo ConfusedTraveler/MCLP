{
 "cells": [
  {
   "cell_type": "code",
   "execution_count": 1,
   "id": "abf717b4",
   "metadata": {},
   "outputs": [
    {
     "name": "stdout",
     "output_type": "stream",
     "text": [
      "e:\\YangYueHan\\project\\MCLP\\model\n"
     ]
    }
   ],
   "source": [
    "import os\n",
    "print(os.getcwd())"
   ]
  },
  {
   "cell_type": "code",
   "execution_count": 2,
   "id": "ad1a4ea1",
   "metadata": {},
   "outputs": [],
   "source": [
    "dataset_path = '../data/MP'"
   ]
  },
  {
   "cell_type": "code",
   "execution_count": 3,
   "id": "8e94731f",
   "metadata": {},
   "outputs": [],
   "source": [
    "from tools import get_mapper"
   ]
  },
  {
   "cell_type": "code",
   "execution_count": 5,
   "id": "6e5f83f0",
   "metadata": {},
   "outputs": [
    {
     "name": "stdout",
     "output_type": "stream",
     "text": [
      "\n",
      "*** Please check the corresponding dataset configuration yml file. ***\n",
      "unique location num: 20607\n",
      "unique user num: 10000\n"
     ]
    }
   ],
   "source": [
    "get_mapper(dataset_path=dataset_path)"
   ]
  },
  {
   "cell_type": "code",
   "execution_count": 6,
   "id": "5788f00a",
   "metadata": {},
   "outputs": [],
   "source": [
    "import numpy as np"
   ]
  },
  {
   "cell_type": "markdown",
   "id": "4ae49ff9",
   "metadata": {},
   "source": [
    "\n",
    "- np.load()\n",
    "- data_structure: item()"
   ]
  },
  {
   "cell_type": "code",
   "execution_count": 7,
   "id": "86ab942b",
   "metadata": {},
   "outputs": [],
   "source": [
    "location_mapper = np.load(os.path.join(dataset_path, 'location_mapper.npy'), allow_pickle=True).item()"
   ]
  },
  {
   "cell_type": "markdown",
   "id": "212ca430",
   "metadata": {},
   "source": [
    "- dict: items()"
   ]
  },
  {
   "cell_type": "code",
   "execution_count": 8,
   "id": "6ff30a5f",
   "metadata": {},
   "outputs": [
    {
     "name": "stdout",
     "output_type": "stream",
     "text": [
      "0: 9605 -> 0\n",
      "1: 2085 -> 1\n",
      "2: 6539 -> 2\n",
      "3: 12587 -> 3\n",
      "4: 12500 -> 4\n"
     ]
    }
   ],
   "source": [
    "for i, (loc, idx) in enumerate(list(location_mapper.items())[:5]):\n",
    "    print(f'{i}: {loc} -> {idx}')"
   ]
  },
  {
   "cell_type": "code",
   "execution_count": 1,
   "id": "aa609690",
   "metadata": {},
   "outputs": [],
   "source": [
    "from dataloader import datetime_to_features"
   ]
  },
  {
   "cell_type": "code",
   "execution_count": 2,
   "id": "4893d941",
   "metadata": {},
   "outputs": [],
   "source": [
    "weekday, hour = datetime_to_features(1672567200000)"
   ]
  },
  {
   "cell_type": "code",
   "execution_count": 3,
   "id": "33c29671",
   "metadata": {},
   "outputs": [
    {
     "name": "stdout",
     "output_type": "stream",
     "text": [
      "6\n",
      "18\n"
     ]
    }
   ],
   "source": [
    "print(weekday)\n",
    "print(hour)"
   ]
  }
 ],
 "metadata": {
  "kernelspec": {
   "display_name": "stgcn",
   "language": "python",
   "name": "python3"
  },
  "language_info": {
   "codemirror_mode": {
    "name": "ipython",
    "version": 3
   },
   "file_extension": ".py",
   "mimetype": "text/x-python",
   "name": "python",
   "nbconvert_exporter": "python",
   "pygments_lexer": "ipython3",
   "version": "3.10.15"
  }
 },
 "nbformat": 4,
 "nbformat_minor": 5
}
