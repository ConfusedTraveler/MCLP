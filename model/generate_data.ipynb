{
 "cells": [
  {
   "cell_type": "code",
   "execution_count": 4,
   "id": "3318d3ef",
   "metadata": {},
   "outputs": [],
   "source": [
    "dataset_path = \"../data/MP\""
   ]
  },
  {
   "cell_type": "code",
   "execution_count": 5,
   "id": "ea4c1b40",
   "metadata": {},
   "outputs": [],
   "source": [
    "import os\n",
    "from tqdm import tqdm\n",
    "import numpy as np\n",
    "import datetime"
   ]
  },
  {
   "cell_type": "code",
   "execution_count": 6,
   "id": "a55b2ad1",
   "metadata": {},
   "outputs": [],
   "source": [
    "user2id = np.load(os.path.join(dataset_path, 'user_mapper.npy'), allow_pickle=True).item()\n",
    "location2id = np.load(os.path.join(dataset_path, 'location_mapper.npy'), allow_pickle=True).item()"
   ]
  },
  {
   "cell_type": "code",
   "execution_count": 7,
   "id": "fe37395b",
   "metadata": {},
   "outputs": [],
   "source": [
    "def datetime_to_features(timestamp):\n",
    "    dt = datetime.datetime.fromtimestamp(int(timestamp) // 1000)\n",
    "    weekday = dt.weekday()\n",
    "    hour = dt.hour\n",
    "    return weekday, hour"
   ]
  },
  {
   "cell_type": "code",
   "execution_count": 8,
   "id": "30c63eb8",
   "metadata": {},
   "outputs": [
    {
     "name": "stderr",
     "output_type": "stream",
     "text": [
      "Preprocess data: 100%|██████████| 10000/10000 [00:08<00:00, 1235.85it/s]\n"
     ]
    }
   ],
   "source": [
    "trans_time_individual = []\n",
    "# occur_time_individual: (user_num, 24)\n",
    "occur_time_individual = np.zeros(shape=(len(user2id), 24), dtype=np.float32)\n",
    "\n",
    "diff_data = []\n",
    "with open(os.path.join(dataset_path, f'train.csv'), 'r', encoding='utf8') as file:\n",
    "    lines = file.readlines()\n",
    "    for line in tqdm(lines, desc=f'Preprocess data'):\n",
    "        # trans_matrix_time: (24, 24)\n",
    "        trans_matrix_time = np.ones((24, 24))\n",
    "        stay_points = line.strip().split(',')[1:]\n",
    "        user = line.strip().split(',')[0]\n",
    "        # i:0 - len(stay_points) - 2\n",
    "        # len(stay_points) - 1没有下一个时刻，所以不包括在循环里，\n",
    "        # 且只更新了occur_time_individual和user_loc_matrix，没有更新trans_matrix_time\n",
    "        for i in range(len(stay_points) - 1):\n",
    "            location, timestamp = stay_points[i].split('@')\n",
    "            next_location, next_timestamp = stay_points[i + 1].split('@')\n",
    "            weekday, hour = datetime_to_features(timestamp)\n",
    "            next_weekday, next_hour = datetime_to_features(next_timestamp)\n",
    "            diff_data.append(abs(next_hour - hour))\n",
    "            i, j = hour, next_hour\n",
    "            # 时间点之间的转移次数\n",
    "            trans_matrix_time[i, j] += 1\n",
    "            # 在某个小时出现的次数\n",
    "            occur_time_individual[user2id[user]][hour] += 1\n",
    "            # 下面这个i是hour啊\n",
    "            if i == len(stay_points) - 2:\n",
    "                occur_time_individual[user2id[user]][next_hour] += 1\n",
    "\n",
    "        time_row_sums = trans_matrix_time.sum(axis=1)\n",
    "        trans_matrix_time = trans_matrix_time / time_row_sums[:, np.newaxis]\n",
    "        # 所有用户的转移矩阵存成一个list\n",
    "        trans_time_individual.append(trans_matrix_time)\n",
    "\n",
    "trans_time_individual = np.array(trans_time_individual)\n",
    "\n",
    "np.save(os.path.join(dataset_path, f'prob_matrix_time_individual.npy'),\n",
    "        np.array(trans_time_individual))\n",
    "np.save(os.path.join(dataset_path, f'occur_time_individual.npy'),\n",
    "        np.array(occur_time_individual))"
   ]
  },
  {
   "cell_type": "code",
   "execution_count": 9,
   "id": "1acfb7a3",
   "metadata": {},
   "outputs": [],
   "source": [
    "occur_time_individual = np.load(os.path.join(dataset_path, f'occur_time_individual.npy'),allow_pickle=True)"
   ]
  },
  {
   "cell_type": "code",
   "execution_count": 10,
   "id": "6f079292",
   "metadata": {},
   "outputs": [
    {
     "data": {
      "text/plain": [
       "(10000, 24)"
      ]
     },
     "execution_count": 10,
     "metadata": {},
     "output_type": "execute_result"
    }
   ],
   "source": [
    "occur_time_individual.shape"
   ]
  },
  {
   "cell_type": "code",
   "execution_count": 11,
   "id": "20b0aaac",
   "metadata": {},
   "outputs": [],
   "source": [
    "res = []"
   ]
  },
  {
   "cell_type": "code",
   "execution_count": 12,
   "id": "55a211ab",
   "metadata": {},
   "outputs": [],
   "source": [
    "line = \"27978,1625@1672567200000,1625@1672623000000,991@1672642800000,936@1672653600000,1625@1672747200000,1620@1672831800000,288@1672840800000,1625@1672921800000,7375@1673011800000,1625@1673024400000,10496@1673060400000,1625@1673078400000,1625@1673087400000,1108@1673152200000,1625@1673177400000,10496@1673236800000,1618@1673249400000,1625@1673352000000,10496@1673445600000,1625@1673528400000,1625@1673613000000,10496@1673668800000,288@1673677800000,1625@1673694000000,1047@1673762400000,2850@1673784000000,1015@1673879400000,2896@1673958600000,4402@1674050400000,799@1674111600000,785@1674129600000,799@1674145800000,4402@1674208800000,3268@1674289800000,4402@1674381600000,1620@1674480600000,3146@1674558000000,1625@1674646200000,1640@1674738000000,1625@1674822600000,1625@1674975600000,1623@1675065600000,1625@1675168200000,1623@1675254600000,966@1675312200000,288@1675337400000,6482@1675422000000,1625@1675443600000,899@1675504800000,10496@1675580400000,288@1675591200000,5723@1675645200000,1015@1675688400000,10496@1675744200000,2601@1675755000000,1625@1675855800000,1625@1675947600000,3645@1676025000000,974@1676034000000,5711@1676043000000,12479@1676073600000,1620@1676106000000,1625@1676183400000,1625@1676197800000,1625@1676295000000,1625@1676376000000,2548@1676466000000,899@1676552400000,3183@1676653200000,5676@1676712600000,1625@1676723400000,10496@1676781000000,1625@1676791800000,1625@1676881800000,1620@1676986200000,10496@1677063600000,1623@1677074400000,1625@1677153600000,1015@1677198600000,1625@1677236400000,921@1677317400000,7392@1677328200000,1233@1677396600000,2829@1677409200000,2547@1677501000000,1623@1677587400000,1015@1677646800000\""
   ]
  },
  {
   "cell_type": "code",
   "execution_count": 13,
   "id": "d81502e3",
   "metadata": {},
   "outputs": [
    {
     "data": {
      "text/plain": [
       "'27978'"
      ]
     },
     "execution_count": 13,
     "metadata": {},
     "output_type": "execute_result"
    }
   ],
   "source": [
    "user = line.strip().split(',')[0]\n",
    "user"
   ]
  },
  {
   "cell_type": "code",
   "execution_count": 14,
   "id": "fbe8b859",
   "metadata": {},
   "outputs": [
    {
     "data": {
      "text/plain": [
       "array([ 1.,  3.,  0.,  0.,  0.,  0.,  0.,  0.,  2.,  2.,  0.,  1.,  6.,\n",
       "        0.,  3.,  8.,  4.,  3.,  9., 11., 16., 11.,  5.,  1.],\n",
       "      dtype=float32)"
      ]
     },
     "execution_count": 14,
     "metadata": {},
     "output_type": "execute_result"
    }
   ],
   "source": [
    "occur_time_user = occur_time_individual[user2id[user]]\n",
    "occur_time_user"
   ]
  },
  {
   "cell_type": "code",
   "execution_count": 15,
   "id": "a985faed",
   "metadata": {},
   "outputs": [],
   "source": [
    "stay_points = line.strip().split(',')[1:]"
   ]
  },
  {
   "cell_type": "code",
   "execution_count": 16,
   "id": "b1994060",
   "metadata": {},
   "outputs": [
    {
     "data": {
      "text/plain": [
       "87"
      ]
     },
     "execution_count": 16,
     "metadata": {},
     "output_type": "execute_result"
    }
   ],
   "source": [
    "count=0\n",
    "for item in stay_points:\n",
    "    count+=1\n",
    "count"
   ]
  },
  {
   "cell_type": "code",
   "execution_count": 17,
   "id": "db21978b",
   "metadata": {},
   "outputs": [
    {
     "name": "stdout",
     "output_type": "stream",
     "text": [
      "4 7\n"
     ]
    }
   ],
   "source": [
    "sequence_count, left = divmod(len(stay_points), 20)\n",
    "print(sequence_count, left)"
   ]
  },
  {
   "cell_type": "code",
   "execution_count": 18,
   "id": "39135968",
   "metadata": {},
   "outputs": [
    {
     "data": {
      "text/plain": [
       "[15741,\n",
       " 15741,\n",
       " 10432,\n",
       " 11426,\n",
       " 15741,\n",
       " 9115,\n",
       " 7729,\n",
       " 15741,\n",
       " 12672,\n",
       " 15741,\n",
       " 7971,\n",
       " 15741,\n",
       " 15741,\n",
       " 13646,\n",
       " 15741,\n",
       " 7971,\n",
       " 19345,\n",
       " 15741,\n",
       " 7971,\n",
       " 15741]"
      ]
     },
     "execution_count": 18,
     "metadata": {},
     "output_type": "execute_result"
    }
   ],
   "source": [
    "split_start = 0\n",
    "split_end = 20\n",
    "location_x = [location2id[item.split('@')[0]] for item in stay_points[split_start:split_end]]\n",
    "location_x"
   ]
  },
  {
   "cell_type": "code",
   "execution_count": 19,
   "id": "d29037d1",
   "metadata": {},
   "outputs": [
    {
     "name": "stdout",
     "output_type": "stream",
     "text": [
      "15741:1672567200000\n",
      "15741:1672623000000\n",
      "10432:1672642800000\n",
      "11426:1672653600000\n",
      "15741:1672747200000\n",
      "9115:1672831800000\n",
      "7729:1672840800000\n",
      "15741:1672921800000\n",
      "12672:1673011800000\n",
      "15741:1673024400000\n",
      "7971:1673060400000\n",
      "15741:1673078400000\n",
      "15741:1673087400000\n",
      "13646:1673152200000\n",
      "15741:1673177400000\n",
      "7971:1673236800000\n",
      "19345:1673249400000\n",
      "15741:1673352000000\n",
      "7971:1673445600000\n",
      "15741:1673528400000\n"
     ]
    }
   ],
   "source": [
    "timestamp_x = [item.split('@')[1] for item in stay_points[split_start:split_end]]\n",
    "for x, t in zip(location_x, timestamp_x):\n",
    "    print(f'{x}:{t}')"
   ]
  },
  {
   "cell_type": "code",
   "execution_count": 20,
   "id": "6faecf18",
   "metadata": {},
   "outputs": [
    {
     "name": "stdout",
     "output_type": "stream",
     "text": [
      "15741:1672623000000\n",
      "10432:1672642800000\n",
      "11426:1672653600000\n",
      "15741:1672747200000\n",
      "9115:1672831800000\n",
      "7729:1672840800000\n",
      "15741:1672921800000\n",
      "12672:1673011800000\n",
      "15741:1673024400000\n",
      "7971:1673060400000\n",
      "15741:1673078400000\n",
      "15741:1673087400000\n",
      "13646:1673152200000\n",
      "15741:1673177400000\n",
      "7971:1673236800000\n",
      "19345:1673249400000\n",
      "15741:1673352000000\n",
      "7971:1673445600000\n",
      "15741:1673528400000\n",
      "15741:1673613000000\n"
     ]
    }
   ],
   "source": [
    "location_y = [location2id[item.split('@')[0]] for item in\n",
    "                stay_points[split_start + 1:split_end + 1]]\n",
    "timestamp_y = [item.split('@')[1] for item in stay_points[split_start + 1:split_end + 1]]\n",
    "for y, t in zip(location_y, timestamp_y):\n",
    "    print(f'{y}:{t}')"
   ]
  },
  {
   "cell_type": "code",
   "execution_count": 21,
   "id": "53e64c43",
   "metadata": {},
   "outputs": [
    {
     "name": "stdout",
     "output_type": "stream",
     "text": [
      "15741:9\n",
      "10432:15\n",
      "11426:18\n",
      "15741:20\n",
      "9115:19\n",
      "7729:22\n",
      "15741:20\n",
      "12672:21\n",
      "15741:1\n",
      "7971:11\n",
      "15741:16\n",
      "15741:18\n",
      "13646:12\n",
      "15741:19\n",
      "7971:12\n",
      "19345:15\n",
      "15741:20\n",
      "7971:22\n",
      "15741:21\n",
      "15741:20\n"
     ]
    }
   ],
   "source": [
    "timeslot_y = []\n",
    "for item in timestamp_y:\n",
    "    weekday, hour = datetime_to_features(item)\n",
    "    timeslot_y.append(hour)\n",
    "for y, t in zip(location_y, timeslot_y):\n",
    "    print(f'{y}:{t}')"
   ]
  },
  {
   "cell_type": "code",
   "execution_count": 22,
   "id": "53111c60",
   "metadata": {},
   "outputs": [
    {
     "name": "stdout",
     "output_type": "stream",
     "text": [
      "[18, 9, 15, 18, 20, 19, 22, 20, 21, 1, 11, 16, 18, 12, 19, 12, 15, 20, 22, 21]\n",
      "[array([0, 0, 1, 1, 1, 1, 1, 1, 0, 0, 1, 0, 0, 1, 0, 0, 0, 0, 0, 0, 0, 0,\n",
      "       0, 0]), array([0, 0, 1, 1, 1, 1, 1, 1, 0, 0, 1, 0, 0, 1, 0, 0, 0, 0, 0, 0, 0, 0,\n",
      "       0, 0]), array([0, 0, 1, 1, 1, 1, 1, 1, 0, 0, 1, 0, 0, 1, 0, 0, 0, 0, 0, 0, 0, 0,\n",
      "       0, 0]), array([0, 0, 1, 1, 1, 1, 1, 1, 0, 0, 1, 0, 0, 1, 0, 0, 0, 0, 0, 0, 0, 0,\n",
      "       0, 0]), array([0, 0, 1, 1, 1, 1, 1, 1, 0, 0, 1, 0, 0, 1, 0, 0, 0, 0, 0, 0, 0, 0,\n",
      "       0, 0]), array([0, 0, 1, 1, 1, 1, 1, 1, 0, 0, 1, 0, 0, 1, 0, 0, 0, 0, 0, 0, 0, 0,\n",
      "       0, 0]), array([0, 0, 1, 1, 1, 1, 1, 1, 0, 0, 1, 0, 0, 1, 0, 0, 0, 0, 0, 0, 0, 0,\n",
      "       0, 0]), array([0, 0, 1, 1, 1, 1, 1, 1, 0, 0, 1, 0, 0, 1, 0, 0, 0, 0, 0, 0, 0, 0,\n",
      "       0, 0]), array([0, 0, 1, 1, 1, 1, 1, 1, 0, 0, 1, 0, 0, 1, 0, 0, 0, 0, 0, 0, 0, 0,\n",
      "       0, 0]), array([0, 0, 1, 1, 1, 1, 1, 1, 0, 0, 1, 0, 0, 1, 0, 0, 0, 0, 0, 0, 0, 0,\n",
      "       0, 0]), array([0, 0, 1, 1, 1, 1, 1, 1, 0, 0, 1, 0, 0, 1, 0, 0, 0, 0, 0, 0, 0, 0,\n",
      "       0, 0]), array([0, 0, 1, 1, 1, 1, 1, 1, 0, 0, 1, 0, 0, 1, 0, 0, 0, 0, 0, 0, 0, 0,\n",
      "       0, 0]), array([0, 0, 1, 1, 1, 1, 1, 1, 0, 0, 1, 0, 0, 1, 0, 0, 0, 0, 0, 0, 0, 0,\n",
      "       0, 0]), array([0, 0, 1, 1, 1, 1, 1, 1, 0, 0, 1, 0, 0, 1, 0, 0, 0, 0, 0, 0, 0, 0,\n",
      "       0, 0]), array([0, 0, 1, 1, 1, 1, 1, 1, 0, 0, 1, 0, 0, 1, 0, 0, 0, 0, 0, 0, 0, 0,\n",
      "       0, 0]), array([0, 0, 1, 1, 1, 1, 1, 1, 0, 0, 1, 0, 0, 1, 0, 0, 0, 0, 0, 0, 0, 0,\n",
      "       0, 0]), array([0, 0, 1, 1, 1, 1, 1, 1, 0, 0, 1, 0, 0, 1, 0, 0, 0, 0, 0, 0, 0, 0,\n",
      "       0, 0]), array([0, 0, 1, 1, 1, 1, 1, 1, 0, 0, 1, 0, 0, 1, 0, 0, 0, 0, 0, 0, 0, 0,\n",
      "       0, 0]), array([0, 0, 1, 1, 1, 1, 1, 1, 0, 0, 1, 0, 0, 1, 0, 0, 0, 0, 0, 0, 0, 0,\n",
      "       0, 0]), array([0, 0, 1, 1, 1, 1, 1, 1, 0, 0, 1, 0, 0, 1, 0, 0, 0, 0, 0, 0, 0, 0,\n",
      "       0, 0])]\n"
     ]
    }
   ],
   "source": [
    "hour_x = []\n",
    "hour_mask = []\n",
    "for item in timestamp_x:\n",
    "    weekday, hour = datetime_to_features(item)\n",
    "    hour_x.append(hour)\n",
    "    mask = np.zeros(24, dtype=np.int32)\n",
    "    mask[occur_time_user == 0] = 1\n",
    "    if mask.sum() == 24:\n",
    "        exit()\n",
    "    hour_mask.append(mask)\n",
    "print(hour_x)\n",
    "print(hour_mask)"
   ]
  },
  {
   "cell_type": "code",
   "execution_count": 23,
   "id": "ca531155",
   "metadata": {},
   "outputs": [],
   "source": [
    "res.append(\n",
    "    {\n",
    "        'user': user2id[user],\n",
    "        'location_x': location_x,\n",
    "        'hour': hour_x,\n",
    "        'hour_mask': np.array(hour_mask),\n",
    "        'location_y': location_y,\n",
    "        'timeslot_y': timeslot_y,\n",
    "    }\n",
    ")"
   ]
  },
  {
   "cell_type": "code",
   "execution_count": 24,
   "id": "4d95656b",
   "metadata": {},
   "outputs": [
    {
     "data": {
      "text/plain": [
       "[{'user': 1417,\n",
       "  'location_x': [15741,\n",
       "   15741,\n",
       "   10432,\n",
       "   11426,\n",
       "   15741,\n",
       "   9115,\n",
       "   7729,\n",
       "   15741,\n",
       "   12672,\n",
       "   15741,\n",
       "   7971,\n",
       "   15741,\n",
       "   15741,\n",
       "   13646,\n",
       "   15741,\n",
       "   7971,\n",
       "   19345,\n",
       "   15741,\n",
       "   7971,\n",
       "   15741],\n",
       "  'hour': [18,\n",
       "   9,\n",
       "   15,\n",
       "   18,\n",
       "   20,\n",
       "   19,\n",
       "   22,\n",
       "   20,\n",
       "   21,\n",
       "   1,\n",
       "   11,\n",
       "   16,\n",
       "   18,\n",
       "   12,\n",
       "   19,\n",
       "   12,\n",
       "   15,\n",
       "   20,\n",
       "   22,\n",
       "   21],\n",
       "  'hour_mask': array([[0, 0, 1, 1, 1, 1, 1, 1, 0, 0, 1, 0, 0, 1, 0, 0, 0, 0, 0, 0, 0, 0,\n",
       "          0, 0],\n",
       "         [0, 0, 1, 1, 1, 1, 1, 1, 0, 0, 1, 0, 0, 1, 0, 0, 0, 0, 0, 0, 0, 0,\n",
       "          0, 0],\n",
       "         [0, 0, 1, 1, 1, 1, 1, 1, 0, 0, 1, 0, 0, 1, 0, 0, 0, 0, 0, 0, 0, 0,\n",
       "          0, 0],\n",
       "         [0, 0, 1, 1, 1, 1, 1, 1, 0, 0, 1, 0, 0, 1, 0, 0, 0, 0, 0, 0, 0, 0,\n",
       "          0, 0],\n",
       "         [0, 0, 1, 1, 1, 1, 1, 1, 0, 0, 1, 0, 0, 1, 0, 0, 0, 0, 0, 0, 0, 0,\n",
       "          0, 0],\n",
       "         [0, 0, 1, 1, 1, 1, 1, 1, 0, 0, 1, 0, 0, 1, 0, 0, 0, 0, 0, 0, 0, 0,\n",
       "          0, 0],\n",
       "         [0, 0, 1, 1, 1, 1, 1, 1, 0, 0, 1, 0, 0, 1, 0, 0, 0, 0, 0, 0, 0, 0,\n",
       "          0, 0],\n",
       "         [0, 0, 1, 1, 1, 1, 1, 1, 0, 0, 1, 0, 0, 1, 0, 0, 0, 0, 0, 0, 0, 0,\n",
       "          0, 0],\n",
       "         [0, 0, 1, 1, 1, 1, 1, 1, 0, 0, 1, 0, 0, 1, 0, 0, 0, 0, 0, 0, 0, 0,\n",
       "          0, 0],\n",
       "         [0, 0, 1, 1, 1, 1, 1, 1, 0, 0, 1, 0, 0, 1, 0, 0, 0, 0, 0, 0, 0, 0,\n",
       "          0, 0],\n",
       "         [0, 0, 1, 1, 1, 1, 1, 1, 0, 0, 1, 0, 0, 1, 0, 0, 0, 0, 0, 0, 0, 0,\n",
       "          0, 0],\n",
       "         [0, 0, 1, 1, 1, 1, 1, 1, 0, 0, 1, 0, 0, 1, 0, 0, 0, 0, 0, 0, 0, 0,\n",
       "          0, 0],\n",
       "         [0, 0, 1, 1, 1, 1, 1, 1, 0, 0, 1, 0, 0, 1, 0, 0, 0, 0, 0, 0, 0, 0,\n",
       "          0, 0],\n",
       "         [0, 0, 1, 1, 1, 1, 1, 1, 0, 0, 1, 0, 0, 1, 0, 0, 0, 0, 0, 0, 0, 0,\n",
       "          0, 0],\n",
       "         [0, 0, 1, 1, 1, 1, 1, 1, 0, 0, 1, 0, 0, 1, 0, 0, 0, 0, 0, 0, 0, 0,\n",
       "          0, 0],\n",
       "         [0, 0, 1, 1, 1, 1, 1, 1, 0, 0, 1, 0, 0, 1, 0, 0, 0, 0, 0, 0, 0, 0,\n",
       "          0, 0],\n",
       "         [0, 0, 1, 1, 1, 1, 1, 1, 0, 0, 1, 0, 0, 1, 0, 0, 0, 0, 0, 0, 0, 0,\n",
       "          0, 0],\n",
       "         [0, 0, 1, 1, 1, 1, 1, 1, 0, 0, 1, 0, 0, 1, 0, 0, 0, 0, 0, 0, 0, 0,\n",
       "          0, 0],\n",
       "         [0, 0, 1, 1, 1, 1, 1, 1, 0, 0, 1, 0, 0, 1, 0, 0, 0, 0, 0, 0, 0, 0,\n",
       "          0, 0],\n",
       "         [0, 0, 1, 1, 1, 1, 1, 1, 0, 0, 1, 0, 0, 1, 0, 0, 0, 0, 0, 0, 0, 0,\n",
       "          0, 0]]),\n",
       "  'location_y': [15741,\n",
       "   10432,\n",
       "   11426,\n",
       "   15741,\n",
       "   9115,\n",
       "   7729,\n",
       "   15741,\n",
       "   12672,\n",
       "   15741,\n",
       "   7971,\n",
       "   15741,\n",
       "   15741,\n",
       "   13646,\n",
       "   15741,\n",
       "   7971,\n",
       "   19345,\n",
       "   15741,\n",
       "   7971,\n",
       "   15741,\n",
       "   15741],\n",
       "  'timeslot_y': [9,\n",
       "   15,\n",
       "   18,\n",
       "   20,\n",
       "   19,\n",
       "   22,\n",
       "   20,\n",
       "   21,\n",
       "   1,\n",
       "   11,\n",
       "   16,\n",
       "   18,\n",
       "   12,\n",
       "   19,\n",
       "   12,\n",
       "   15,\n",
       "   20,\n",
       "   22,\n",
       "   21,\n",
       "   20]}]"
      ]
     },
     "execution_count": 24,
     "metadata": {},
     "output_type": "execute_result"
    }
   ],
   "source": [
    "res"
   ]
  },
  {
   "cell_type": "code",
   "execution_count": null,
   "id": "29a14724",
   "metadata": {},
   "outputs": [],
   "source": [
    "with open(os.path.join(dataset_path, 'train.csv'), 'r', encoding='utf8') as file:\n",
    "    lines = file.readlines()\n",
    "    for line_i, line in enumerate(tqdm(lines, desc=f'Initial train data')):\n",
    "        user = line.strip().split(',')[0]\n",
    "        occur_time_user = occur_time_individual[user2id[user]]\n",
    "        stay_points = line.strip().split(',')[1:]\n",
    "        # divmod: 计算商和余数，返回一个元组\n",
    "        # sequence_count: 停留点序列总长度除以20，left: 剩余停留点个数\n",
    "        sequence_count, left = divmod(len(stay_points), 20)\n",
    "        assert sequence_count > 0, f\"{user}'s does not have enough data.\"\n",
    "        sequence_count -= 1 if left == 0 else 0\n",
    "        for i in range(sequence_count):\n",
    "            split_start = i * 20\n",
    "            split_end = (i + 1) * 20\n",
    "            location_x = [location2id[item.split('@')[0]] for item in stay_points[split_start:split_end]]\n",
    "            timestamp_x = [item.split('@')[1] for item in stay_points[split_start:split_end]]\n",
    "            location_y = [location2id[item.split('@')[0]] for item in\n",
    "                            stay_points[split_start + 1:split_end + 1]]\n",
    "            timestamp_y = [item.split('@')[1] for item in stay_points[split_start + 1:split_end + 1]]\n",
    "            timeslot_y = []\n",
    "            \n",
    "            hour_x = []\n",
    "            hour_mask = []\n",
    "            for item in timestamp_x:\n",
    "                weekday, hour = datetime_to_features(item)\n",
    "                hour_x.append(hour)\n",
    "                mask = np.zeros(24, dtype=np.int32)\n",
    "                mask[occur_time_user == 0] = 1\n",
    "                if mask.sum() == 24:\n",
    "                    exit()\n",
    "                hour_mask.append(mask)\n",
    "            \n",
    "            for item in timestamp_y:\n",
    "                weekday, hour = datetime_to_features(item)\n",
    "                timeslot_y.append(hour)\n",
    "\n",
    "            res.append(\n",
    "                {\n",
    "                    'user': user2id[user],\n",
    "                    'location_x': location_x,\n",
    "                    'hour': hour_x,\n",
    "                    'hour_mask': np.array(hour_mask),\n",
    "                    'location_y': location_y,\n",
    "                    'timeslot_y': timeslot_y,\n",
    "                }\n",
    "            )"
   ]
  },
  {
   "cell_type": "code",
   "execution_count": 1,
   "id": "78d16b83",
   "metadata": {},
   "outputs": [],
   "source": [
    "from tools import get_config\n",
    "save_dir = f\"../saved_models/MP\"\n",
    "config_path = f\"{save_dir}/settings.yml\"\n",
    "config = get_config(config_path, easy=True)"
   ]
  },
  {
   "cell_type": "code",
   "execution_count": 27,
   "id": "9b77840d",
   "metadata": {},
   "outputs": [],
   "source": [
    "import torch.nn as nn"
   ]
  },
  {
   "cell_type": "code",
   "execution_count": 28,
   "id": "91e0221e",
   "metadata": {},
   "outputs": [],
   "source": [
    "location_embedding = nn.Embedding(20607, 8)"
   ]
  },
  {
   "cell_type": "code",
   "execution_count": 29,
   "id": "5d0cf580",
   "metadata": {},
   "outputs": [
    {
     "ename": "TypeError",
     "evalue": "embedding(): argument 'indices' (position 2) must be Tensor, not list",
     "output_type": "error",
     "traceback": [
      "\u001b[1;31m---------------------------------------------------------------------------\u001b[0m",
      "\u001b[1;31mTypeError\u001b[0m                                 Traceback (most recent call last)",
      "Cell \u001b[1;32mIn[29], line 2\u001b[0m\n\u001b[0;32m      1\u001b[0m location_x \u001b[38;5;241m=\u001b[39m res[\u001b[38;5;241m0\u001b[39m][\u001b[38;5;124m\"\u001b[39m\u001b[38;5;124mlocation_x\u001b[39m\u001b[38;5;124m\"\u001b[39m]\n\u001b[1;32m----> 2\u001b[0m loc_embedded \u001b[38;5;241m=\u001b[39m \u001b[43mlocation_embedding\u001b[49m\u001b[43m(\u001b[49m\u001b[43mlocation_x\u001b[49m\u001b[43m)\u001b[49m\n",
      "File \u001b[1;32md:\\anaconda3\\envs\\stgcn\\lib\\site-packages\\torch\\nn\\modules\\module.py:1511\u001b[0m, in \u001b[0;36mModule._wrapped_call_impl\u001b[1;34m(self, *args, **kwargs)\u001b[0m\n\u001b[0;32m   1509\u001b[0m     \u001b[38;5;28;01mreturn\u001b[39;00m \u001b[38;5;28mself\u001b[39m\u001b[38;5;241m.\u001b[39m_compiled_call_impl(\u001b[38;5;241m*\u001b[39margs, \u001b[38;5;241m*\u001b[39m\u001b[38;5;241m*\u001b[39mkwargs)  \u001b[38;5;66;03m# type: ignore[misc]\u001b[39;00m\n\u001b[0;32m   1510\u001b[0m \u001b[38;5;28;01melse\u001b[39;00m:\n\u001b[1;32m-> 1511\u001b[0m     \u001b[38;5;28;01mreturn\u001b[39;00m \u001b[38;5;28mself\u001b[39m\u001b[38;5;241m.\u001b[39m_call_impl(\u001b[38;5;241m*\u001b[39margs, \u001b[38;5;241m*\u001b[39m\u001b[38;5;241m*\u001b[39mkwargs)\n",
      "File \u001b[1;32md:\\anaconda3\\envs\\stgcn\\lib\\site-packages\\torch\\nn\\modules\\module.py:1520\u001b[0m, in \u001b[0;36mModule._call_impl\u001b[1;34m(self, *args, **kwargs)\u001b[0m\n\u001b[0;32m   1515\u001b[0m \u001b[38;5;66;03m# If we don't have any hooks, we want to skip the rest of the logic in\u001b[39;00m\n\u001b[0;32m   1516\u001b[0m \u001b[38;5;66;03m# this function, and just call forward.\u001b[39;00m\n\u001b[0;32m   1517\u001b[0m \u001b[38;5;28;01mif\u001b[39;00m \u001b[38;5;129;01mnot\u001b[39;00m (\u001b[38;5;28mself\u001b[39m\u001b[38;5;241m.\u001b[39m_backward_hooks \u001b[38;5;129;01mor\u001b[39;00m \u001b[38;5;28mself\u001b[39m\u001b[38;5;241m.\u001b[39m_backward_pre_hooks \u001b[38;5;129;01mor\u001b[39;00m \u001b[38;5;28mself\u001b[39m\u001b[38;5;241m.\u001b[39m_forward_hooks \u001b[38;5;129;01mor\u001b[39;00m \u001b[38;5;28mself\u001b[39m\u001b[38;5;241m.\u001b[39m_forward_pre_hooks\n\u001b[0;32m   1518\u001b[0m         \u001b[38;5;129;01mor\u001b[39;00m _global_backward_pre_hooks \u001b[38;5;129;01mor\u001b[39;00m _global_backward_hooks\n\u001b[0;32m   1519\u001b[0m         \u001b[38;5;129;01mor\u001b[39;00m _global_forward_hooks \u001b[38;5;129;01mor\u001b[39;00m _global_forward_pre_hooks):\n\u001b[1;32m-> 1520\u001b[0m     \u001b[38;5;28;01mreturn\u001b[39;00m forward_call(\u001b[38;5;241m*\u001b[39margs, \u001b[38;5;241m*\u001b[39m\u001b[38;5;241m*\u001b[39mkwargs)\n\u001b[0;32m   1522\u001b[0m \u001b[38;5;28;01mtry\u001b[39;00m:\n\u001b[0;32m   1523\u001b[0m     result \u001b[38;5;241m=\u001b[39m \u001b[38;5;28;01mNone\u001b[39;00m\n",
      "File \u001b[1;32md:\\anaconda3\\envs\\stgcn\\lib\\site-packages\\torch\\nn\\modules\\sparse.py:163\u001b[0m, in \u001b[0;36mEmbedding.forward\u001b[1;34m(self, input)\u001b[0m\n\u001b[0;32m    162\u001b[0m \u001b[38;5;28;01mdef\u001b[39;00m \u001b[38;5;21mforward\u001b[39m(\u001b[38;5;28mself\u001b[39m, \u001b[38;5;28minput\u001b[39m: Tensor) \u001b[38;5;241m-\u001b[39m\u001b[38;5;241m>\u001b[39m Tensor:\n\u001b[1;32m--> 163\u001b[0m     \u001b[38;5;28;01mreturn\u001b[39;00m \u001b[43mF\u001b[49m\u001b[38;5;241;43m.\u001b[39;49m\u001b[43membedding\u001b[49m\u001b[43m(\u001b[49m\n\u001b[0;32m    164\u001b[0m \u001b[43m        \u001b[49m\u001b[38;5;28;43minput\u001b[39;49m\u001b[43m,\u001b[49m\u001b[43m \u001b[49m\u001b[38;5;28;43mself\u001b[39;49m\u001b[38;5;241;43m.\u001b[39;49m\u001b[43mweight\u001b[49m\u001b[43m,\u001b[49m\u001b[43m \u001b[49m\u001b[38;5;28;43mself\u001b[39;49m\u001b[38;5;241;43m.\u001b[39;49m\u001b[43mpadding_idx\u001b[49m\u001b[43m,\u001b[49m\u001b[43m \u001b[49m\u001b[38;5;28;43mself\u001b[39;49m\u001b[38;5;241;43m.\u001b[39;49m\u001b[43mmax_norm\u001b[49m\u001b[43m,\u001b[49m\n\u001b[0;32m    165\u001b[0m \u001b[43m        \u001b[49m\u001b[38;5;28;43mself\u001b[39;49m\u001b[38;5;241;43m.\u001b[39;49m\u001b[43mnorm_type\u001b[49m\u001b[43m,\u001b[49m\u001b[43m \u001b[49m\u001b[38;5;28;43mself\u001b[39;49m\u001b[38;5;241;43m.\u001b[39;49m\u001b[43mscale_grad_by_freq\u001b[49m\u001b[43m,\u001b[49m\u001b[43m \u001b[49m\u001b[38;5;28;43mself\u001b[39;49m\u001b[38;5;241;43m.\u001b[39;49m\u001b[43msparse\u001b[49m\u001b[43m)\u001b[49m\n",
      "File \u001b[1;32md:\\anaconda3\\envs\\stgcn\\lib\\site-packages\\torch\\nn\\functional.py:2237\u001b[0m, in \u001b[0;36membedding\u001b[1;34m(input, weight, padding_idx, max_norm, norm_type, scale_grad_by_freq, sparse)\u001b[0m\n\u001b[0;32m   2231\u001b[0m     \u001b[38;5;66;03m# Note [embedding_renorm set_grad_enabled]\u001b[39;00m\n\u001b[0;32m   2232\u001b[0m     \u001b[38;5;66;03m# XXX: equivalent to\u001b[39;00m\n\u001b[0;32m   2233\u001b[0m     \u001b[38;5;66;03m# with torch.no_grad():\u001b[39;00m\n\u001b[0;32m   2234\u001b[0m     \u001b[38;5;66;03m#   torch.embedding_renorm_\u001b[39;00m\n\u001b[0;32m   2235\u001b[0m     \u001b[38;5;66;03m# remove once script supports set_grad_enabled\u001b[39;00m\n\u001b[0;32m   2236\u001b[0m     _no_grad_embedding_renorm_(weight, \u001b[38;5;28minput\u001b[39m, max_norm, norm_type)\n\u001b[1;32m-> 2237\u001b[0m \u001b[38;5;28;01mreturn\u001b[39;00m \u001b[43mtorch\u001b[49m\u001b[38;5;241;43m.\u001b[39;49m\u001b[43membedding\u001b[49m\u001b[43m(\u001b[49m\u001b[43mweight\u001b[49m\u001b[43m,\u001b[49m\u001b[43m \u001b[49m\u001b[38;5;28;43minput\u001b[39;49m\u001b[43m,\u001b[49m\u001b[43m \u001b[49m\u001b[43mpadding_idx\u001b[49m\u001b[43m,\u001b[49m\u001b[43m \u001b[49m\u001b[43mscale_grad_by_freq\u001b[49m\u001b[43m,\u001b[49m\u001b[43m \u001b[49m\u001b[43msparse\u001b[49m\u001b[43m)\u001b[49m\n",
      "\u001b[1;31mTypeError\u001b[0m: embedding(): argument 'indices' (position 2) must be Tensor, not list"
     ]
    }
   ],
   "source": [
    "location_x = res[0][\"location_x\"]\n",
    "loc_embedded = location_embedding(location_x)"
   ]
  }
 ],
 "metadata": {
  "kernelspec": {
   "display_name": "stgcn",
   "language": "python",
   "name": "python3"
  },
  "language_info": {
   "codemirror_mode": {
    "name": "ipython",
    "version": 3
   },
   "file_extension": ".py",
   "mimetype": "text/x-python",
   "name": "python",
   "nbconvert_exporter": "python",
   "pygments_lexer": "ipython3",
   "version": "3.10.15"
  }
 },
 "nbformat": 4,
 "nbformat_minor": 5
}
