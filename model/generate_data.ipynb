{
 "cells": [
  {
   "cell_type": "code",
   "execution_count": null,
   "id": "29a14724",
   "metadata": {},
   "outputs": [],
   "source": [
    "sequence_count -= 1 if left == 0 else 0\n",
    "for i in range(sequence_count):\n",
    "    split_start = i * self.config.Dataset.sequence_length\n",
    "    split_end = (i + 1) * self.config.Dataset.sequence_length\n",
    "    location_x = [self.location2id[item.split('@')[0]] for item in stay_points[split_start:split_end]]\n",
    "    timestamp_x = [item.split('@')[1] for item in stay_points[split_start:split_end]]\n",
    "    location_y = [self.location2id[item.split('@')[0]] for item in\n",
    "                    stay_points[split_start + 1:split_end + 1]]\n",
    "    timestamp_y = [item.split('@')[1] for item in stay_points[split_start + 1:split_end + 1]]\n",
    "    timeslot_y = []\n",
    "    \n",
    "    hour_x = []\n",
    "    hour_mask = []\n",
    "    for item in timestamp_x:\n",
    "        weekday, hour = datetime_to_features(item)\n",
    "        hour_x.append(hour)\n",
    "        mask = np.zeros(24, dtype=np.int32)\n",
    "        mask[occur_time_user == 0] = 1\n",
    "        if mask.sum() == 24:\n",
    "            exit()\n",
    "        hour_mask.append(mask)\n",
    "    \n",
    "    for item in timestamp_y:\n",
    "        weekday, hour = datetime_to_features(item)\n",
    "        timeslot_y.append(hour)\n",
    "\n",
    "    res.append(\n",
    "        {\n",
    "            'user': self.user2id[user],\n",
    "            'location_x': location_x,\n",
    "            'hour': hour_x,\n",
    "            'hour_mask': np.array(hour_mask),\n",
    "            'location_y': location_y,\n",
    "            'timeslot_y': timeslot_y,\n",
    "        }\n",
    "    )"
   ]
  }
 ],
 "metadata": {
  "language_info": {
   "name": "python"
  }
 },
 "nbformat": 4,
 "nbformat_minor": 5
}
