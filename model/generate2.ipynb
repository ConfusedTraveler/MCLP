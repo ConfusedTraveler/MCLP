{
 "cells": [
  {
   "cell_type": "markdown",
   "id": "6174b504",
   "metadata": {},
   "source": [
    "- 比较train_sequence和test_sequence?"
   ]
  }
 ],
 "metadata": {
  "kernelspec": {
   "display_name": "stgcn",
   "language": "python",
   "name": "python3"
  },
  "language_info": {
   "name": "python",
   "version": "3.10.15"
  }
 },
 "nbformat": 4,
 "nbformat_minor": 5
}
